{
 "cells": [
  {
   "cell_type": "code",
   "execution_count": null,
   "metadata": {},
   "outputs": [],
   "source": [
    "%load_ext autoreload\n",
    "%autoreload 2\n",
    "%matplotlib"
   ]
  },
  {
   "cell_type": "code",
   "execution_count": null,
   "metadata": {},
   "outputs": [],
   "source": [
    "import numpy as np\n",
    "from pathlib import Path\n",
    "import matplotlib.pyplot as plt\n",
    "from matplotlib.animation import FuncAnimation\n",
    "import os\n",
    "from qgsw.utils.sorting import sort_files\n",
    "from mpl_toolkits.axes_grid1 import make_axes_locatable\n",
    "from qgsw.run_summary import RunSummary"
   ]
  },
  {
   "cell_type": "code",
   "execution_count": null,
   "metadata": {},
   "outputs": [],
   "source": [
    "ROOT = Path(os.path.abspath('')).parent"
   ]
  },
  {
   "cell_type": "code",
   "execution_count": null,
   "metadata": {},
   "outputs": [],
   "source": [
    "folder = ROOT.joinpath(\"output/g5k/imports\")\n",
    "run = RunSummary.from_file(folder.joinpath(\"_summary.toml\"))"
   ]
  },
  {
   "cell_type": "code",
   "execution_count": null,
   "metadata": {},
   "outputs": [],
   "source": [
    "steps, files = sort_files(folder.rglob(\"*.npz\"), prefix=run.configuration.model.prefix, suffix = \".npz\")"
   ]
  },
  {
   "cell_type": "code",
   "execution_count": null,
   "metadata": {},
   "outputs": [],
   "source": [
    "file = files[80]\n",
    "fields_map = {\n",
    "    \"vorticity\": {\"key\": \"omega\", \"label\":\"Vorticity\"},\n",
    "    \"pressure\": {\"key\": \"p\", \"label\":\"Pressure\"},\n",
    "}\n",
    "field = fields_map[\"vorticity\"]\n",
    "\n",
    "def mean_threshold(top:np.ndarray, bottom:np.ndarray) -> tuple[float, float]:\n",
    "    mean_top = np.mean(np.abs(top[np.abs(top) > 1e-5 ]))\n",
    "    std_top = np.std(np.abs(top[np.abs(top) > 1e-5 ]))\n",
    "    mean_bottom = np.mean(np.abs(bottom[np.abs(bottom) > 1e-5 ]))\n",
    "    std_bottom = np.std(np.abs(bottom[np.abs(bottom) > 1e-5 ]))\n",
    "    return mean_top + 1*std_top , mean_bottom + 1*std_bottom\n",
    "\n",
    "def quantile_threshold(top: np.ndarray, bottom:np.ndarray) -> tuple[float, float]:\n",
    "    quantile_value = 0.95\n",
    "    abs_top = np.abs(top)[np.abs(top) > 1e-5]\n",
    "    top_quantile = np.quantile(abs_top, quantile_value)\n",
    "    abs_bottom = np.abs(bottom)[np.abs(bottom) > 1e-5]\n",
    "    bottom_quantile = np.quantile(abs_bottom, quantile_value)\n",
    "    return top_quantile, bottom_quantile\n",
    "\n",
    "\n",
    "def get_thresholds(top:np.ndarray, bottom:np.ndarray) -> tuple[float, float]:\n",
    "    return mean_threshold(top, bottom)"
   ]
  },
  {
   "cell_type": "code",
   "execution_count": null,
   "metadata": {},
   "outputs": [],
   "source": [
    "# %matplotlib inline\n",
    "plot = False\n",
    "if plot:\n",
    "    plt.ion()\n",
    "    cmap = plt.cm.bwr\n",
    "    fig, axes = plt.subplots(3, 2, figsize=(18,12))\n",
    "    fig.subplots_adjust(right=0.85)\n",
    "\n",
    "    cbars = np.empty_like(axes)\n",
    "\n",
    "    cbars[0,0] = make_axes_locatable(axes[0,0]).append_axes('right', size='5%', pad=0.05)\n",
    "    cbars[0,1] = make_axes_locatable(axes[0,1]).append_axes('right', size='5%', pad=0.05)\n",
    "    cbars[1,0] = make_axes_locatable(axes[1,0]).append_axes('right', size='5%', pad=0.05)\n",
    "    cbars[1,1] = make_axes_locatable(axes[1,1]).append_axes('right', size='5%', pad=0.05)\n",
    "    cbars[2,0] = make_axes_locatable(axes[2,0]).append_axes('right', size='5%', pad=0.05)\n",
    "\n",
    "offset = 1\n",
    "last = -1\n",
    "means = [0] * offset\n",
    "stds = [0] * offset\n",
    "for i in range(len(files[offset:last])+1):\n",
    "    file = files[i+offset]\n",
    "    step = steps[i+offset]\n",
    "    data = np.load(file)[field[\"key\"]]\n",
    "    top = data[0,0]\n",
    "    bottom = data[0,1]\n",
    "    top_threshold, bottom_threshold = get_thresholds(top, bottom)\n",
    "    top_above_threshold = np.abs(top) > top_threshold\n",
    "    bottom_above_threshold = np.abs(bottom) > bottom_threshold\n",
    "\n",
    "    if plot:\n",
    "        fig.suptitle(f\"Step: {step} / {steps[last]}\")\n",
    "\n",
    "        axes[0,0].cla()\n",
    "        axes[0,1].cla()\n",
    "        axes[1,0].cla()\n",
    "        axes[1,1].cla()\n",
    "        axes[2,0].cla()\n",
    "        axes[2,1].cla()\n",
    "\n",
    "        cbar = axes[0,0].imshow(top, cmap=cmap, vmin=-np.max(np.abs(top)), vmax=np.max(np.abs(top)))\n",
    "        fig.colorbar(cbar,cax=cbars[0,0])\n",
    "        axes[0,0].set_title(f\"{field['label']} - Surface\")\n",
    "\n",
    "        cbar = axes[0,1].imshow(bottom, cmap=cmap, vmin=-np.max(np.abs(bottom)), vmax=np.max(np.abs(bottom)))\n",
    "        fig.colorbar(cbar,cax=cbars[0,1])\n",
    "        axes[0,1].set_title(f\"{field['label']} - Bottom\")\n",
    "\n",
    "        cbar = axes[1,0].imshow(top_above_threshold, cmap=plt.cm.binary)\n",
    "        fig.colorbar(cbar,cax=cbars[1,0])\n",
    "        axes[1,0].set_title(f\"{field['label']} above threshold - Surface\")\n",
    "\n",
    "        cbar = axes[1,1].imshow(bottom_above_threshold, cmap=plt.cm.binary)\n",
    "        fig.colorbar(cbar,cax=cbars[1,1])\n",
    "        axes[1,1].set_title(f\"{field['label']} above threshold - Bottom\")\n",
    "\n",
    "    ratio = np.zeros(top.shape)\n",
    "    below_quantiles = top_above_threshold & bottom_above_threshold\n",
    "    ratio[below_quantiles] = bottom[below_quantiles] / top[below_quantiles]\n",
    "\n",
    "    if plot:\n",
    "        cbar = axes[2,0].imshow(ratio, cmap=cmap, vmin=-np.max(np.abs(ratio)), vmax=np.max(np.abs(ratio)))\n",
    "        fig.colorbar(cbar,cax=cbars[2,0])\n",
    "        axes[2,0].set_title(f\"{field['label']} ratio - Bottom / Surface\")\n",
    "\n",
    "    means.append(np.mean(ratio[below_quantiles]))\n",
    "    stds.append(np.std(ratio[below_quantiles]))\n",
    "    if plot:\n",
    "        axes[2,1].set_xlim([steps[0], steps[last]])\n",
    "        # axes[2,1].set_ylim([-1, 1])\n",
    "        axes[2,1].plot(steps[:i+offset+1], means)\n",
    "        axes[2,1].fill_between(steps[:offset+i+1] ,np.array(means) - np.array(stds), np.array(means) + np.array(stds), color='grey', alpha=0.2)\n",
    "        axes[2,1].set_title(f\"Mean Ratio Evolution Over Frames\")\n",
    "        plt.pause(0.01)\n",
    "if plot:\n",
    "    plt.ioff()"
   ]
  },
  {
   "cell_type": "code",
   "execution_count": null,
   "metadata": {},
   "outputs": [],
   "source": [
    "steps_total = range(steps[-1]+1)\n",
    "# mean_step_map = {steps[i]:means[i] for i in range(len(steps))}\n",
    "# means_total = [mean_step_map[step] if step in steps else np.nan for step in steps_total]\n",
    "means_total = np.interp(steps_total, steps, means)"
   ]
  },
  {
   "cell_type": "code",
   "execution_count": null,
   "metadata": {},
   "outputs": [],
   "source": [
    "plt.plot(steps_total, means_total)\n",
    "plt.show()"
   ]
  },
  {
   "cell_type": "code",
   "execution_count": null,
   "metadata": {},
   "outputs": [],
   "source": [
    "kernel_size = 1e5\n",
    "sigma = 0.05\n",
    "X = np.linspace(-1, 1, int(kernel_size))"
   ]
  },
  {
   "cell_type": "code",
   "execution_count": null,
   "metadata": {},
   "outputs": [],
   "source": [
    "kernel = 1/(sigma*np.sqrt(2*np.pi))*np.exp(-np.power(X,2)/(2*sigma))\n",
    "kernel = kernel /np.sum(kernel)"
   ]
  },
  {
   "cell_type": "code",
   "execution_count": null,
   "metadata": {},
   "outputs": [],
   "source": [
    "plt.plot(X,kernel)\n",
    "plt.show()"
   ]
  },
  {
   "cell_type": "code",
   "execution_count": null,
   "metadata": {},
   "outputs": [],
   "source": [
    "filtered = np.convolve(np.pad(means_total, (len(kernel)-1,len(kernel)-1), mode=\"edge\"),kernel, mode=\"same\")\n",
    "plt.plot(steps_total,filtered[len(kernel)-1:-(len(kernel)-1)], label=\"Filtered Points\")\n",
    "plt.scatter(steps, means, c='red', alpha=0.5, label = \"Reference Points\")\n",
    "plt.legend()\n",
    "plt.show()"
   ]
  }
 ],
 "metadata": {
  "kernelspec": {
   "display_name": "Python 3",
   "language": "python",
   "name": "python3"
  },
  "language_info": {
   "codemirror_mode": {
    "name": "ipython",
    "version": 3
   },
   "file_extension": ".py",
   "mimetype": "text/x-python",
   "name": "python",
   "nbconvert_exporter": "python",
   "pygments_lexer": "ipython3",
   "version": "3.9.2"
  }
 },
 "nbformat": 4,
 "nbformat_minor": 2
}
