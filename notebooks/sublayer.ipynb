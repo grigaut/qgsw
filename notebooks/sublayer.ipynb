{
 "cells": [
  {
   "cell_type": "code",
   "execution_count": null,
   "metadata": {},
   "outputs": [],
   "source": [
    "%load_ext autoreload\n",
    "%autoreload 2\n",
    "%matplotlib"
   ]
  },
  {
   "cell_type": "code",
   "execution_count": null,
   "metadata": {},
   "outputs": [],
   "source": [
    "import numpy as np\n",
    "from pathlib import Path\n",
    "import matplotlib.pyplot as plt\n",
    "from matplotlib.animation import FuncAnimation\n",
    "import os\n",
    "from qgsw.utils.sorting import sort_files\n",
    "from mpl_toolkits.axes_grid1 import make_axes_locatable\n",
    "from qgsw.run_summary import RunSummary\n",
    "from qgsw.models.qg.alpha import extract_coefficients_from_run"
   ]
  },
  {
   "cell_type": "code",
   "execution_count": null,
   "metadata": {},
   "outputs": [],
   "source": [
    "ROOT = Path(os.path.abspath('')).parent"
   ]
  },
  {
   "cell_type": "code",
   "execution_count": null,
   "metadata": {},
   "outputs": [],
   "source": [
    "folder = ROOT.joinpath(\"output/g5k/imports\")\n",
    "run = RunSummary.from_file(folder.joinpath(\"_summary.toml\"))"
   ]
  },
  {
   "cell_type": "code",
   "execution_count": null,
   "metadata": {},
   "outputs": [],
   "source": [
    "from qgsw.models.qg.alpha import save_coefficients\n",
    "\n",
    "times, coefs = extract_coefficients_from_run(folder)\n",
    "save_coefficients(ROOT.joinpath(\"data/coefficients.npz\"),times, coefs)"
   ]
  },
  {
   "cell_type": "code",
   "execution_count": null,
   "metadata": {},
   "outputs": [],
   "source": [
    "_, files = sort_files(folder.rglob(\"*.npz\"), prefix=run.configuration.model.prefix, suffix = \".npz\")"
   ]
  },
  {
   "cell_type": "code",
   "execution_count": null,
   "metadata": {},
   "outputs": [],
   "source": [
    "fields_map = {\n",
    "    \"vorticity\": {\"key\": \"omega\", \"label\":\"Vorticity\"},\n",
    "    \"pressure\": {\"key\": \"p\", \"label\":\"Pressure\"},\n",
    "}\n",
    "field = fields_map[\"vorticity\"]"
   ]
  },
  {
   "cell_type": "code",
   "execution_count": null,
   "metadata": {},
   "outputs": [],
   "source": [
    "# %matplotlib inline\n",
    "plot = True\n",
    "if plot:\n",
    "    plt.ion()\n",
    "    cmap = plt.cm.bwr\n",
    "    fig, axes = plt.subplots(2, 2, figsize=(12,12))\n",
    "    fig.subplots_adjust(right=0.85)\n",
    "\n",
    "    cbars = np.empty_like(axes)\n",
    "\n",
    "    cbars[0,0] = make_axes_locatable(axes[0,0]).append_axes('right', size='5%', pad=0.05)\n",
    "    cbars[0,1] = make_axes_locatable(axes[0,1]).append_axes('right', size='5%', pad=0.05)\n",
    "\n",
    "offset = 0\n",
    "last = -1\n",
    "for i in range(len(files[offset:last])+1):\n",
    "    file = files[i+offset]\n",
    "    time = times[i+offset]\n",
    "    data = np.load(file)[field[\"key\"]]\n",
    "    top = data[0,0]\n",
    "    bottom = data[0,1]\n",
    "\n",
    "    if plot:\n",
    "        fig.suptitle(f\"Step: {time} / {times[last]}\")\n",
    "\n",
    "        axes[0,0].cla()\n",
    "        axes[0,1].cla()\n",
    "        axes[1,0].cla()\n",
    "\n",
    "        cbar = axes[0,0].imshow(top, cmap=cmap, vmin=-np.max(np.abs(top)), vmax=np.max(np.abs(top)))\n",
    "        fig.colorbar(cbar,cax=cbars[0,0])\n",
    "        axes[0,0].set_title(f\"{field['label']} - Surface\")\n",
    "\n",
    "        cbar = axes[0,1].imshow(bottom, cmap=cmap, vmin=-np.max(np.abs(bottom)), vmax=np.max(np.abs(bottom)))\n",
    "        fig.colorbar(cbar,cax=cbars[0,1])\n",
    "        axes[0,1].set_title(f\"{field['label']} - Bottom\")\n",
    "\n",
    "    if plot:\n",
    "        axes[1,0].set_xlim([times[0], times[last]])\n",
    "        axes[1,0].plot(times[:i+offset+1], coefs[:i+offset+1])\n",
    "        axes[1,0].set_title(f\"Mean Ratio Evolution Over Frames\")\n",
    "        plt.pause(0.01)\n",
    "if plot:\n",
    "    plt.ioff()"
   ]
  },
  {
   "cell_type": "code",
   "execution_count": null,
   "metadata": {},
   "outputs": [],
   "source": []
  }
 ],
 "metadata": {
  "kernelspec": {
   "display_name": "Python 3",
   "language": "python",
   "name": "python3"
  },
  "language_info": {
   "codemirror_mode": {
    "name": "ipython",
    "version": 3
   },
   "file_extension": ".py",
   "mimetype": "text/x-python",
   "name": "python",
   "nbconvert_exporter": "python",
   "pygments_lexer": "ipython3",
   "version": "3.9.2"
  }
 },
 "nbformat": 4,
 "nbformat_minor": 2
}
