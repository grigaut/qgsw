{
 "cells": [
  {
   "cell_type": "code",
   "execution_count": null,
   "metadata": {},
   "outputs": [],
   "source": [
    "%load_ext autoreload\n",
    "%autoreload 2\n",
    "%matplotlib"
   ]
  },
  {
   "cell_type": "code",
   "execution_count": null,
   "metadata": {},
   "outputs": [],
   "source": [
    "import numpy as np\n",
    "from pathlib import Path\n",
    "import matplotlib.pyplot as plt\n",
    "from matplotlib.animation import FuncAnimation\n",
    "import os\n",
    "from qgsw.utils.sorting import sort_files\n",
    "from qgsw.run_summary import RunSummary"
   ]
  },
  {
   "cell_type": "code",
   "execution_count": null,
   "metadata": {},
   "outputs": [],
   "source": [
    "ROOT = Path(os.path.abspath('')).parent"
   ]
  },
  {
   "cell_type": "code",
   "execution_count": null,
   "metadata": {},
   "outputs": [],
   "source": [
    "folder = ROOT.joinpath(\"output/g5k/two_layers_baroclinic_100km\")\n",
    "run = RunSummary.from_file(folder.joinpath(\"_summary.toml\"))"
   ]
  },
  {
   "cell_type": "code",
   "execution_count": null,
   "metadata": {},
   "outputs": [],
   "source": [
    "_, files = sort_files(folder.rglob(\"*.npz\"), prefix=run.configuration.model.prefix, suffix = \".npz\")"
   ]
  },
  {
   "cell_type": "code",
   "execution_count": null,
   "metadata": {},
   "outputs": [],
   "source": [
    "plt.ion()\n",
    "cmap = plt.cm.bwr\n",
    "fig, axes = plt.subplots(1,3, figsize=(18,6), dpi=150, layout='tight')\n",
    "for file in files[4:]:\n",
    "    omega = np.load(file)[\"omega\"]\n",
    "    cbar = axes[0].imshow(omega[0,0], cmap=cmap)\n",
    "    cbar = axes[1].imshow(omega[0,1], cmap=cmap)\n",
    "    mask_omega = np.logical_or(np.abs(omega[0,0]) > 1e-2, np.abs(omega[0,1]) > 1e-2)\n",
    "    ratio = np.zeros(mask_omega.shape)\n",
    "    ratio[mask_omega] = omega[0,1][mask_omega]/omega[0,0][mask_omega]\n",
    "    ratio[np.abs(ratio) > np.quantile(np.abs(ratio[np.abs(ratio) > 1e-10]),0.01) ] = 0\n",
    "    vmax = np.abs(ratio).max()\n",
    "    cbar = axes[2].imshow(omega[0,0]/omega[0,1], cmap=cmap, vmin = -vmax, vmax=vmax)\n",
    "    plt.pause(0.05)"
   ]
  },
  {
   "cell_type": "code",
   "execution_count": null,
   "metadata": {},
   "outputs": [],
   "source": [
    "file = files[50]\n",
    "omega = np.load(file)[\"omega\"]\n",
    "quantile_value = 0.75"
   ]
  },
  {
   "cell_type": "code",
   "execution_count": null,
   "metadata": {},
   "outputs": [],
   "source": [
    "%matplotlib inline\n",
    "top = omega[0,0]\n",
    "abs_top = np.abs(top)[np.abs(top) > 1e-5]\n",
    "quantile = np.quantile(abs_top, quantile_value)\n",
    "top_below_quantile = np.abs(top) > quantile\n",
    "\n",
    "fig, axes = plt.subplots(1, 2, figsize=(12,6))\n",
    "fig.suptitle(\"Surface\")\n",
    "\n",
    "cbar = axes[0].imshow(top)\n",
    "fig.colorbar(cbar, ax=axes[0])\n",
    "axes[0].set_title(\"Vorticity\")\n",
    "\n",
    "cbar = axes[1].imshow(top_below_quantile)\n",
    "fig.colorbar(cbar, ax=axes[1])\n",
    "axes[1].set_title(f\"Vorticity above {quantile_value} quantile\")\n",
    "\n",
    "plt.show()"
   ]
  },
  {
   "cell_type": "code",
   "execution_count": null,
   "metadata": {},
   "outputs": [],
   "source": [
    "%matplotlib inline\n",
    "bottom = omega[0,1]\n",
    "abs_bottom = np.abs(bottom)[np.abs(bottom) > 1e-5]\n",
    "quantile = np.quantile(abs_bottom, quantile_value)\n",
    "bottom_below_quantile = np.abs(bottom) > quantile\n",
    "\n",
    "fig, axes = plt.subplots(1, 2, figsize=(12,6))\n",
    "fig.suptitle(\"Bottom\")\n",
    "\n",
    "cbar = axes[0].imshow(bottom)\n",
    "fig.colorbar(cbar, ax=axes[0])\n",
    "axes[0].set_title(\"Vorticity\")\n",
    "\n",
    "cbar = axes[1].imshow(bottom_below_quantile)\n",
    "fig.colorbar(cbar, ax=axes[1])\n",
    "axes[1].set_title(f\"Vorticity above {quantile_value} quantile\")\n",
    "\n",
    "plt.show()"
   ]
  },
  {
   "cell_type": "code",
   "execution_count": null,
   "metadata": {},
   "outputs": [],
   "source": [
    "ratio = np.zeros(top.shape)\n",
    "below_quantiles = top_below_quantile & bottom_below_quantile\n",
    "ratio[below_quantiles] = bottom[below_quantiles] / top[below_quantiles]\n",
    "np.mean(ratio[below_quantiles] )"
   ]
  },
  {
   "cell_type": "code",
   "execution_count": null,
   "metadata": {},
   "outputs": [],
   "source": [
    "fig, axes = plt.subplots(1, 1, figsize=(6,6))\n",
    "fig.suptitle(\"Ratio\")\n",
    "\n",
    "cbar = axes.imshow(ratio, vmin = -np.max(np.abs(ratio)), vmax = np.max(np.abs(ratio)))\n",
    "fig.colorbar(cbar, ax=axes)\n",
    "axes.set_title(\"Vorticity Ratio\")\n",
    "\n",
    "plt.show()"
   ]
  },
  {
   "cell_type": "code",
   "execution_count": null,
   "metadata": {},
   "outputs": [],
   "source": []
  }
 ],
 "metadata": {
  "kernelspec": {
   "display_name": "Python 3",
   "language": "python",
   "name": "python3"
  },
  "language_info": {
   "codemirror_mode": {
    "name": "ipython",
    "version": 3
   },
   "file_extension": ".py",
   "mimetype": "text/x-python",
   "name": "python",
   "nbconvert_exporter": "python",
   "pygments_lexer": "ipython3",
   "version": "3.9.2"
  }
 },
 "nbformat": 4,
 "nbformat_minor": 2
}
