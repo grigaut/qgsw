{
 "cells": [
  {
   "cell_type": "code",
   "execution_count": null,
   "metadata": {},
   "outputs": [],
   "source": [
    "%load_ext autoreload\n",
    "%autoreload 2"
   ]
  },
  {
   "cell_type": "code",
   "execution_count": null,
   "metadata": {},
   "outputs": [],
   "source": [
    "import numpy as np\n",
    "from pathlib import Path\n",
    "import matplotlib.pyplot as plt\n",
    "from matplotlib.animation import FuncAnimation\n",
    "import os\n",
    "from qgsw.utils.sorting import sort_files\n",
    "from mpl_toolkits.axes_grid1 import make_axes_locatable\n",
    "from qgsw.run_summary import RunSummary\n",
    "from matplotlib.axes import Axes"
   ]
  },
  {
   "cell_type": "code",
   "execution_count": null,
   "metadata": {},
   "outputs": [],
   "source": [
    "ROOT = Path(os.path.abspath('')).parent"
   ]
  },
  {
   "cell_type": "code",
   "execution_count": null,
   "metadata": {},
   "outputs": [],
   "source": [
    "folder = ROOT.joinpath(\"output/g5k/two_layers_baroclinic_100km_long\")\n",
    "run = RunSummary.from_file(folder.joinpath(\"_summary.toml\"))\n",
    "model = run.configuration.model\n",
    "steps, files = sort_files(folder.glob(f\"{model.prefix}*.npz\"), prefix=model.prefix, suffix=\".npz\")"
   ]
  },
  {
   "cell_type": "code",
   "execution_count": null,
   "metadata": {},
   "outputs": [],
   "source": [
    "%matplotlib tk\n",
    "\n",
    "plt.ion()\n",
    "\n",
    "fig = plt.figure(figsize=(12,18))\n",
    "\n",
    "top_axes: Axes = plt.subplot2grid(fig=fig, shape=(3,2), loc=(0,0))\n",
    "top_cbar_axes: Axes = make_axes_locatable(top_axes).append_axes(\"right\", size=\"7%\", pad=\"2%\")\n",
    "bottom_axes: Axes = plt.subplot2grid(fig=fig, shape=(3,2), loc=(0,1))\n",
    "bottom_cbar_axes: Axes = make_axes_locatable(bottom_axes).append_axes(\"right\", size=\"7%\", pad=\"2%\")\n",
    "ratio_axes:Axes = plt.subplot2grid(fig=fig, shape=(3,2), loc=(1,0), rowspan=2, colspan=2)\n",
    "ratio_cbar_axes: Axes = make_axes_locatable(ratio_axes).append_axes(\"right\", size=\"7%\", pad=\"2%\")\n",
    "\n",
    "for i, file in enumerate(files):\n",
    "    step = steps[i]\n",
    "    fig.suptitle(f\"Vorticity Ratio Estimation\\nTime: {step*run.dt} sec / {steps[-1]*run.dt} sec\")\n",
    "    omega = np.load(file)[\"omega\"]\n",
    "\n",
    "    top_axes.cla()\n",
    "    top_axes.set_title(\"Top Layer Potential Vorticity\")\n",
    "    top_cbar_axes.cla()\n",
    "    bottom_axes.cla()\n",
    "    bottom_axes.set_title(\"Bottom Layer Potential Vorticity\")\n",
    "    bottom_cbar_axes.cla()\n",
    "    ratio_axes.cla()\n",
    "    ratio_axes.set_title(\"Bottom / Top Potential Vorticity Ratio\")\n",
    "    ratio_cbar_axes.cla()\n",
    "\n",
    "    top: np.ndarray = omega[0,0,...]\n",
    "    bottom: np.ndarray = omega[0,1,...]\n",
    "\n",
    "    is_not_zero = np.abs(top) > 0.2\n",
    "\n",
    "    top_cbar = top_axes.imshow(top, vmin=-np.max(np.abs(top)), vmax=np.max(np.abs(top)))\n",
    "    fig.colorbar(top_cbar, cax=top_cbar_axes)\n",
    "    bottom_cbar = bottom_axes.imshow(bottom, vmin=-np.max(np.abs(bottom)), vmax=np.max(np.abs(bottom)))\n",
    "    fig.colorbar(bottom_cbar, cax=bottom_cbar_axes)\n",
    "\n",
    "    ratio = np.zeros(top.shape)\n",
    "    ratio[is_not_zero] = bottom[is_not_zero] / top[is_not_zero]\n",
    "    ratio_cbar = ratio_axes.imshow(ratio, vmin=-np.max(np.abs(ratio)), vmax=np.max(np.abs(ratio)))\n",
    "    fig.colorbar(ratio_cbar, cax=ratio_cbar_axes)\n",
    "\n",
    "    plt.pause(0.01)\n",
    "\n",
    "plt.ioff()\n",
    "plt.close()"
   ]
  },
  {
   "cell_type": "code",
   "execution_count": null,
   "metadata": {},
   "outputs": [],
   "source": []
  }
 ],
 "metadata": {
  "kernelspec": {
   "display_name": "Python 3",
   "language": "python",
   "name": "python3"
  },
  "language_info": {
   "codemirror_mode": {
    "name": "ipython",
    "version": 3
   },
   "file_extension": ".py",
   "mimetype": "text/x-python",
   "name": "python",
   "nbconvert_exporter": "python",
   "pygments_lexer": "ipython3",
   "version": "3.9.2"
  }
 },
 "nbformat": 4,
 "nbformat_minor": 2
}
