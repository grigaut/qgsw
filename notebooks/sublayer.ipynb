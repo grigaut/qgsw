{
 "cells": [
  {
   "cell_type": "code",
   "execution_count": null,
   "metadata": {},
   "outputs": [],
   "source": [
    "%load_ext autoreload\n",
    "%autoreload 2"
   ]
  },
  {
   "cell_type": "code",
   "execution_count": null,
   "metadata": {},
   "outputs": [],
   "source": [
    "import numpy as np\n",
    "from pathlib import Path\n",
    "import matplotlib.pyplot as plt\n",
    "from matplotlib.animation import FuncAnimation\n",
    "import os\n",
    "from qgsw.utils.sorting import sort_files\n",
    "from mpl_toolkits.axes_grid1 import make_axes_locatable\n",
    "from qgsw.run_summary import RunSummary\n",
    "from matplotlib.axes import Axes"
   ]
  },
  {
   "cell_type": "code",
   "execution_count": null,
   "metadata": {},
   "outputs": [],
   "source": [
    "ROOT = Path(os.path.abspath('')).parent"
   ]
  },
  {
   "cell_type": "code",
   "execution_count": null,
   "metadata": {},
   "outputs": [],
   "source": [
    "folder = ROOT.joinpath(\"output/g5k/two_layers_half_barotropic_100km\")\n",
    "run = RunSummary.from_file(folder.joinpath(\"_summary.toml\"))\n",
    "model = run.configuration.model\n",
    "steps, files = sort_files(folder.glob(f\"{model.prefix}*.npz\"), prefix=model.prefix, suffix=\".npz\")"
   ]
  },
  {
   "cell_type": "code",
   "execution_count": null,
   "metadata": {},
   "outputs": [],
   "source": [
    "%matplotlib tk\n",
    "plt.ion()\n",
    "\n",
    "fig = plt.figure(figsize=(12,18))\n",
    "\n",
    "shape = (3,2)\n",
    "\n",
    "top_axes: Axes = plt.subplot2grid(fig=fig, shape=shape, loc=(0,0))\n",
    "top_cbar_axes: Axes = make_axes_locatable(top_axes).append_axes(\"right\", size=\"7%\", pad=\"2%\")\n",
    "bottom_axes: Axes = plt.subplot2grid(fig=fig, shape=shape, loc=(0,1))\n",
    "bottom_cbar_axes: Axes = make_axes_locatable(bottom_axes).append_axes(\"right\", size=\"7%\", pad=\"2%\")\n",
    "ratio_axes:Axes = plt.subplot2grid(fig=fig, shape=shape, loc=(1,0), rowspan=1, colspan=1)\n",
    "ratio_cbar_axes: Axes = make_axes_locatable(ratio_axes).append_axes(\"right\", size=\"7%\", pad=\"2%\")\n",
    "ratio_axes_:Axes = plt.subplot2grid(fig=fig, shape=shape, loc=(1,1), rowspan=1, colspan=1)\n",
    "ratio_cbar_axes_: Axes = make_axes_locatable(ratio_axes_).append_axes(\"right\", size=\"7%\", pad=\"2%\")\n",
    "rmses: Axes = plt.subplot2grid(fig=fig, shape=shape, loc=(2,0), rowspan=1, colspan=2) \n",
    "\n",
    "rmse = []\n",
    "rmse_ = []\n",
    "\n",
    "end = 100\n",
    "for i, file in enumerate(files[:end]):\n",
    "    step = steps[i]\n",
    "    fig.suptitle(f\"Vorticity Ratio Estimation\\nTime: {step*run.dt} sec / {steps[end]*run.dt} sec\")\n",
    "    omega = np.load(file)[\"omega\"][...,10:-10, 10:-10]\n",
    "\n",
    "    top_axes.cla()\n",
    "    top_axes.set_title(\"Top Layer Potential Vorticity\")\n",
    "    top_cbar_axes.cla()\n",
    "    bottom_axes.cla()\n",
    "    bottom_axes.set_title(\"Bottom Layer Potential Vorticity\")\n",
    "    bottom_cbar_axes.cla()\n",
    "    ratio_axes.cla()\n",
    "    ratio_axes.set_title(\"Bottom / Top Potential Vorticity Ratio\")\n",
    "    ratio_cbar_axes.cla()\n",
    "    ratio_axes_.cla()\n",
    "    ratio_axes_.set_title(\"Bottom / Top Potential Vorticity Ratio\")\n",
    "    ratio_cbar_axes_.cla()\n",
    "    rmses.cla()\n",
    "    rmses.set_title(\"Ratio Comparison\")\n",
    "\n",
    "    top: np.ndarray = omega[0,0,...]\n",
    "    bottom: np.ndarray = omega[0,1,...]\n",
    "\n",
    "    is_not_zero = np.abs(top) > 1e-1\n",
    "\n",
    "    top_cbar = top_axes.imshow(top, vmin=-np.max(np.abs(top)), vmax=np.max(np.abs(top)), cmap=plt.colormaps[\"bwr\"])\n",
    "    fig.colorbar(top_cbar, cax=top_cbar_axes)\n",
    "    bottom_cbar = bottom_axes.imshow(bottom, vmin=-np.max(np.abs(bottom)), vmax=np.max(np.abs(bottom)), cmap=plt.colormaps[\"bwr\"])\n",
    "    fig.colorbar(bottom_cbar, cax=bottom_cbar_axes)\n",
    "\n",
    "    ratio_map = np.zeros(top.shape)\n",
    "    ratio = bottom[is_not_zero]/ (top[is_not_zero] + bottom[is_not_zero])\n",
    "    alpha = ratio / (1 - ratio)\n",
    "    ratio_map[is_not_zero] = alpha\n",
    "    ratio_cbar = ratio_axes.imshow(ratio_map, vmin=-1, vmax=1, cmap=plt.colormaps[\"bwr\"])\n",
    "    fig.colorbar(ratio_cbar, cax=ratio_cbar_axes)\n",
    "\n",
    "    ratio_map_ = np.zeros(top.shape)\n",
    "    ratio_ = bottom[is_not_zero] / top[is_not_zero]\n",
    "    alpha_ = ratio_\n",
    "    ratio_map_[is_not_zero] = alpha_\n",
    "    ratio_cbar_ = ratio_axes_.imshow(ratio_map_, vmin=-1, vmax=1, cmap=plt.colormaps[\"bwr\"])\n",
    "    fig.colorbar(ratio_cbar_, cax=ratio_cbar_axes_)\n",
    "\n",
    "    rmse.append(np.mean(alpha))\n",
    "    rmse_.append(np.mean(alpha_))\n",
    "\n",
    "    rmses.plot(steps[:i+1], rmse, c='blue', label = \"Modified Ratio\")\n",
    "    rmses.plot(steps[:i+1], rmse_, c='orange', label = \"Standard Ratio\")\n",
    "    rmses.set_xlim(steps[0], steps[end])\n",
    "    rmses.axvline(x=50000, alpha=0.5, c='red')\n",
    "    rmses.legend()\n",
    "\n",
    "    plt.pause(0.01)\n",
    "\n",
    "plt.ioff()\n",
    "plt.close()"
   ]
  },
  {
   "cell_type": "code",
   "execution_count": null,
   "metadata": {},
   "outputs": [],
   "source": []
  }
 ],
 "metadata": {
  "kernelspec": {
   "display_name": "Python 3",
   "language": "python",
   "name": "python3"
  },
  "language_info": {
   "codemirror_mode": {
    "name": "ipython",
    "version": 3
   },
   "file_extension": ".py",
   "mimetype": "text/x-python",
   "name": "python",
   "nbconvert_exporter": "python",
   "pygments_lexer": "ipython3",
   "version": "3.9.2"
  }
 },
 "nbformat": 4,
 "nbformat_minor": 2
}
