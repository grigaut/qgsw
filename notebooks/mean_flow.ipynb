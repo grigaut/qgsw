{
 "cells": [
  {
   "cell_type": "code",
   "execution_count": null,
   "id": "0",
   "metadata": {},
   "outputs": [],
   "source": [
    "%load_ext autoreload\n",
    "%autoreload 2"
   ]
  },
  {
   "cell_type": "markdown",
   "id": "1",
   "metadata": {},
   "source": [
    "## Diagnostics of the mean flow"
   ]
  },
  {
   "cell_type": "markdown",
   "id": "2",
   "metadata": {},
   "source": [
    "### 3-layer model"
   ]
  },
  {
   "cell_type": "code",
   "execution_count": null,
   "id": "3",
   "metadata": {},
   "outputs": [],
   "source": [
    "from qgsw import plots\n",
    "import torch\n",
    "from qgsw.fields.variables.tuples import UVH\n",
    "from qgsw.forcing.wind import WindForcing\n",
    "from qgsw.masks import Masks\n",
    "from qgsw.models.qg.psiq.core import QGPSIQ\n",
    "from qgsw.models.qg.stretching_matrix import compute_A\n",
    "from qgsw.models.qg.uvh.projectors.core import QGProjector\n",
    "from qgsw.output import RunOutput\n",
    "from qgsw.spatial.core.discretization import SpaceDiscretization2D, SpaceDiscretization3D\n",
    "from qgsw.spatial.core.grid_conversion import interpolate\n",
    "from qgsw.specs import defaults\n",
    "from qgsw.utils import covphys\n",
    "from qgsw.filters.gaussian import GaussianFilter2D\n",
    "from qgsw.solver.boundary_conditions.base import Boundaries\n",
    "from qgsw.solver.finite_diff import laplacian\n",
    "from qgsw.utils.interpolation import LinearInterpolation\n",
    "\n",
    "run = RunOutput(\"../output/g5k/sw_double_gyre_long_hr\")\n",
    "\n",
    "H = run.summary.configuration.model.h\n",
    "g_prime = run.summary.configuration.model.g_prime\n",
    "f0 = run.summary.configuration.physics.f0\n",
    "beta = run.summary.configuration.physics.beta\n",
    "P = QGProjector(\n",
    "    A =compute_A(\n",
    "        H = H,\n",
    "        g_prime = g_prime\n",
    "    ),\n",
    "    H = H.unsqueeze(-1).unsqueeze(-1),\n",
    "    space=SpaceDiscretization3D.from_config(\n",
    "        run.summary.configuration.space,\n",
    "        run.summary.configuration.model\n",
    "    ),\n",
    "    f0 = run.summary.configuration.physics.f0,\n",
    "    masks = Masks.empty(nx=run.summary.configuration.space.nx,ny=run.summary.configuration.space.ny)\n",
    ")\n",
    "A = P.A\n",
    "space=P.space\n",
    "dx,dy = space.dx,space.dy\n",
    "nx,ny=space.nx,space.ny\n",
    "\n",
    "wind = WindForcing.from_config(run.summary.configuration.windstress, run.summary.configuration.space,run.summary.configuration.physics)\n",
    "tx,ty = wind.compute()\n",
    "\n",
    "outputs = run.outputs()\n",
    "uvh0: UVH = next(outputs).read()\n",
    "sf_init = P.compute_p(covphys.to_cov(uvh0, dx,dy))[0]/f0\n",
    "\n",
    "beta_effect = beta*(space.q.xyh.y[0,0,:][None,:] - space.ly/2)"
   ]
  },
  {
   "cell_type": "code",
   "execution_count": null,
   "id": "4",
   "metadata": {},
   "outputs": [],
   "source": [
    "imin, imax = 32,96\n",
    "jmin,jmax = 256, 384"
   ]
  },
  {
   "cell_type": "code",
   "execution_count": null,
   "id": "5",
   "metadata": {},
   "outputs": [],
   "source": [
    "filt = GaussianFilter2D(sigma=10)\n",
    "k = filt.window_radius\n",
    "\n",
    "p = 4 # To be able to compute boundary conditions\n",
    "\n",
    "model= QGPSIQ(\n",
    "    space_2d=space.remove_z_h(),\n",
    "    H = H,\n",
    "    beta_plane=run.summary.configuration.physics.beta_plane,\n",
    "    g_prime=g_prime,\n",
    ")\n",
    "model.set_wind_forcing(tx,ty)\n",
    "model.masks = Masks.empty_tensor(model.space.nx,model.space.ny,device=defaults.get_device())\n",
    "model.dt = 360\n",
    "model.time_stepper = \"euler\"\n",
    "model.bottom_drag_coef = run.summary.configuration.physics.bottom_drag_coefficient\n",
    "model.slip_coef = run.summary.configuration.physics.slip_coef\n",
    "model.set_psi(sf_init)\n",
    "\n",
    "\n",
    "sfs = [model.psi[...,imin-k-p:imax+1+k+p,jmin-k-p:jmax+1+k+p]]\n",
    "qs = [model.q[...,imin-(p-1):imax+(p-1),jmin-(p-1):jmax+(p-1)]]\n",
    "times = [model.time.item()]\n",
    "\n",
    "sf_bcs:list[Boundaries] = [Boundaries.extract(model.psi,imin,imax+1,jmin,jmax+1,width=2)]\n",
    "pv_bcs :list[Boundaries]= [Boundaries.extract(model.q,imin-1,imax+1,jmin-1,jmax+1,width=3)]\n",
    "\n",
    "for _ in range(100):\n",
    "    model.step()\n",
    "    sfs.append(model.psi[...,imin-k-p:imax+1+k+p,jmin-k-p:jmax+1+k+p])\n",
    "    qs.append(model.q[...,imin-(p-1):imax+(p-1),jmin-(p-1):jmax+(p-1)])\n",
    "    sf_bcs.append(Boundaries.extract(model.psi,imin,imax+1,jmin,jmax+1,width=2))\n",
    "    pv_bcs.append(Boundaries.extract(model.q,imin-1,imax+1,jmin-1,jmax+1,width=3))\n",
    "    times.append(model.time.item())\n",
    "\n",
    "sf_bc_interp  = LinearInterpolation(times,sf_bcs)\n",
    "pv_bc_interp = LinearInterpolation(times, pv_bcs)\n",
    "\n",
    "sf_bar_wide = torch.stack(\n",
    "    [\n",
    "        filt(torch.stack(sfs).mean(dim=0)[0,0]),\n",
    "        filt(torch.stack(sfs).mean(dim=0)[0,1]),\n",
    "        filt(torch.stack(sfs).mean(dim=0)[0,2])\n",
    "    ]\n",
    ").unsqueeze(0)\n",
    "sf_bar = sf_bar_wide[...,k:-k,k:-k]\n",
    "q_bar = interpolate(laplacian(sf_bar,dx,dy) - f0**2*torch.einsum(\"lm,...mxy->...lxy\",A,sf_bar[...,1:-1,1:-1])) + beta_effect[...,jmin-(p-1):jmax+(p-1)]\n",
    "q_mean =  torch.stack(qs).mean(dim=0)\n",
    "\n",
    "sf_anoms = [sf[...,k+p:-k-p,k+p:-k-p]-sf_bar[...,p:-p,p:-p] for sf in sfs]\n",
    "q_anoms = [q-q_bar for q in qs]"
   ]
  },
  {
   "cell_type": "code",
   "execution_count": null,
   "id": "6",
   "metadata": {},
   "outputs": [],
   "source": [
    "fig, axs = plots.subplots(3,4)\n",
    "fig.suptitle(\"Mean flows\")\n",
    "\n",
    "plots.imshow(sf_bar[0,0],ax=axs[0,0], title=\"ѱ_bar - top\")\n",
    "plots.imshow(q_bar[0,0],ax=axs[0,1],title =\"q_bar - top\")\n",
    "plots.imshow((q_bar-q_mean)[0,0],ax=axs[0,2],title =\"q_bar-q_mean - top\")\n",
    "plots.imshow(q_mean[0,0],ax=axs[0,3],title =\"q_mean - top\")\n",
    "plots.imshow(sf_bar[0,1],ax=axs[1,0], title=\"ѱ_bar - middle\")\n",
    "plots.imshow(q_bar[0,1],ax=axs[1,1],title =\"q_bar - middle\")\n",
    "plots.imshow((q_bar-q_mean)[0,1],ax=axs[1,2],title =\"q_bar-q_mean - middle\")\n",
    "plots.imshow(q_mean[0,1],ax=axs[1,3],title =\"q_mean - middle\")\n",
    "plots.imshow(sf_bar[0,2],ax=axs[2,0], title=\"ѱ_bar - bottom\")\n",
    "plots.imshow(q_bar[0,2],ax=axs[2,1],title =\"q_bar - bottom\")\n",
    "plots.imshow((q_bar-q_mean)[0,2],ax=axs[2,2],title =\"q_bar-q_mean - bottom\")\n",
    "plots.imshow(q_mean[0,2],ax=axs[2,3],title =\"q_mean - bottom\")\n",
    "\n",
    "plots.show()"
   ]
  },
  {
   "cell_type": "code",
   "execution_count": null,
   "id": "7",
   "metadata": {},
   "outputs": [],
   "source": [
    "sf_bar_interp = LinearInterpolation(times,[sf_bar[...,4:-4,4:-4] for _ in sfs])\n",
    "pv_bar_interp = LinearInterpolation(times,[interpolate(laplacian(sf_bar,dx,dy)- f0**2*torch.einsum(\"lm,...mxy->lxy\",A,sf_bar[...,1:-1,1:-1]))[...,3:-3,3:-3] + beta_effect[:,jmin:jmax] for _ in sfs])\n",
    "sf_bar_bc_interp = LinearInterpolation(times,[Boundaries.extract(sf_bar,4,-5,4,-5,2) for _ in sfs])\n",
    "pv_bar_bc_interp = LinearInterpolation(times,[Boundaries.extract(interpolate(laplacian(sf_bar,dx,dy)- f0**2*torch.einsum(\"lm,...mxy->lxy\",A,sf_bar[...,1:-1,1:-1])) + beta_effect[:,jmin-3:jmax+3],2,-3,2,-3,3) for _ in sfs])"
   ]
  },
  {
   "cell_type": "code",
   "execution_count": null,
   "id": "8",
   "metadata": {},
   "outputs": [],
   "source": [
    "space_2d = SpaceDiscretization2D.from_tensors(\n",
    "    x=P.space.remove_z_h().omega.xy.x[imin:imax+1,0],\n",
    "    y=P.space.remove_z_h().omega.xy.y[0,jmin:jmax+1],\n",
    ")\n",
    "\n",
    "model_mf= QGPSIQ(\n",
    "    space_2d=space_2d,\n",
    "    H = H,\n",
    "    beta_plane=run.summary.configuration.physics.beta_plane,\n",
    "    g_prime=g_prime,\n",
    ")\n",
    "model_mf.set_wind_forcing(tx[imin:imax,jmin:jmax+1],ty[imin:imax+1,jmin:jmax])\n",
    "model_mf.masks = Masks.empty_tensor(model_mf.space.nx,model_mf.space.ny,device=defaults.get_device())\n",
    "model_mf.time_stepper = \"euler\"\n",
    "model_mf.y0 = space.ly/2\n",
    "model_mf.dt = 360\n",
    "model_mf.bottom_drag_coef = run.summary.configuration.physics.bottom_drag_coefficient\n",
    "model_mf.slip_coef = run.summary.configuration.physics.slip_coef\n",
    "model_mf.wide = True\n",
    "model_mf.set_boundary_maps(sf_bc_interp,pv_bc_interp)\n",
    "model_mf.set_mean_flow(sf_bar_interp,pv_bar_interp,sf_bar_bc_interp,pv_bar_bc_interp)\n",
    "model_mf.set_psi(sf_init[...,imin:imax+1,jmin:jmax+1])"
   ]
  },
  {
   "cell_type": "code",
   "execution_count": null,
   "id": "9",
   "metadata": {},
   "outputs": [],
   "source": [
    "for _ in range(1):\n",
    "    model_mf.step()"
   ]
  },
  {
   "cell_type": "code",
   "execution_count": null,
   "id": "10",
   "metadata": {},
   "outputs": [],
   "source": [
    "plots.imshow((model_mf.psi[0,0]-sfs[1][0,0,(k+p):-(k+p),(k+p):-(k+p)])/sfs[1][0,0,(k+p):-(k+p),(k+p):-(k+p)].max())"
   ]
  },
  {
   "cell_type": "code",
   "execution_count": null,
   "id": "11",
   "metadata": {},
   "outputs": [],
   "source": [
    "plots.imshow(model_mf.perturbation.psi[0,0])"
   ]
  },
  {
   "cell_type": "code",
   "execution_count": null,
   "id": "12",
   "metadata": {},
   "outputs": [],
   "source": [
    "plots.imshow(model_mf.mean_flow.psi[0,0])"
   ]
  },
  {
   "cell_type": "code",
   "execution_count": null,
   "id": "13",
   "metadata": {},
   "outputs": [],
   "source": []
  }
 ],
 "metadata": {
  "kernelspec": {
   "display_name": "Python 3",
   "language": "python",
   "name": "python3"
  },
  "language_info": {
   "codemirror_mode": {
    "name": "ipython",
    "version": 3
   },
   "file_extension": ".py",
   "mimetype": "text/x-python",
   "name": "python",
   "nbconvert_exporter": "python",
   "pygments_lexer": "ipython3",
   "version": "3.12.10"
  }
 },
 "nbformat": 4,
 "nbformat_minor": 5
}
