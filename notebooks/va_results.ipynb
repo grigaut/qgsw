{
 "cells": [
  {
   "cell_type": "code",
   "execution_count": null,
   "id": "0",
   "metadata": {},
   "outputs": [],
   "source": [
    "%load_ext autoreload\n",
    "%autoreload 2"
   ]
  },
  {
   "cell_type": "markdown",
   "id": "1",
   "metadata": {},
   "source": [
    "## Setup"
   ]
  },
  {
   "cell_type": "markdown",
   "id": "2",
   "metadata": {},
   "source": [
    "### Libraries"
   ]
  },
  {
   "cell_type": "code",
   "execution_count": null,
   "id": "3",
   "metadata": {},
   "outputs": [],
   "source": [
    "import torch\n",
    "import seaborn as sns\n",
    "from qgsw.logging import getLogger, setup_root_logger\n",
    "from qgsw.specs import defaults\n",
    "\n",
    "torch.backends.cudnn.deterministic = True\n",
    "torch.set_grad_enabled(False)\n",
    "sns.set_theme(\"notebook\",style=\"dark\")\n",
    "\n",
    "specs = defaults.get()\n",
    "\n",
    "setup_root_logger(1)\n",
    "logger = getLogger(__name__)"
   ]
  },
  {
   "cell_type": "markdown",
   "id": "4",
   "metadata": {},
   "source": [
    "### Parameters"
   ]
  },
  {
   "cell_type": "code",
   "execution_count": null,
   "id": "5",
   "metadata": {},
   "outputs": [],
   "source": [
    "from qgsw.configs.core import Configuration\n",
    "from qgsw.forcing.wind import WindForcing\n",
    "\n",
    "\n",
    "config = Configuration.from_toml(\"../output/g5k/param_optim/_config.toml\")\n",
    "\n",
    "H = config.model.h\n",
    "g_prime = config.model.g_prime\n",
    "H1, H2 = H[0], H[1]\n",
    "g1, g2 = g_prime[0], g_prime[1]\n",
    "beta_plane = config.physics.beta_plane\n",
    "bottom_drag_coef = config.physics.bottom_drag_coefficient\n",
    "slip_coef = config.physics.slip_coef\n",
    "\n",
    "wind = WindForcing.from_config(\n",
    "    config.windstress,\n",
    "    config.space,\n",
    "    config.physics,\n",
    ")\n",
    "tx, ty = wind.compute()\n",
    "p = 4"
   ]
  },
  {
   "cell_type": "markdown",
   "id": "6",
   "metadata": {},
   "source": [
    "### Space"
   ]
  },
  {
   "cell_type": "code",
   "execution_count": null,
   "id": "7",
   "metadata": {},
   "outputs": [],
   "source": [
    "from qgsw.spatial.core.discretization import SpaceDiscretization3D\n",
    "\n",
    "\n",
    "space = SpaceDiscretization3D.from_config(\n",
    "    config.space,\n",
    "    config.model,\n",
    ")\n",
    "dx, dy = space.dx, space.dy"
   ]
  },
  {
   "cell_type": "code",
   "execution_count": null,
   "id": "8",
   "metadata": {},
   "outputs": [],
   "source": [
    "from qgsw.solver.boundary_conditions.base import Boundaries\n",
    "\n",
    "\n",
    "def get_psi_slices(imin:int,imax:int,jmin:int,jmax:int) -> tuple[slice]:\n",
    "    return  [slice(imin, imax + 1), slice(jmin, jmax + 1)]\n",
    "\n",
    "def extract_psi_w_(psi: torch.Tensor,imin:int,imax:int,jmin:int,jmax:int) -> torch.Tensor:\n",
    "    \"\"\"Extract psi.\"\"\"\n",
    "    psi_slices_w = get_psi_slices(imin-p,imax+p,jmin-p,jmax+p)\n",
    "    return psi[..., *psi_slices_w]\n",
    "\n",
    "\n",
    "def extract_psi_bc(psi: torch.Tensor) -> Boundaries:\n",
    "    \"\"\"Extract psi.\"\"\"\n",
    "    return Boundaries.extract(psi, p, -p - 1, p, -p - 1, 2)"
   ]
  },
  {
   "cell_type": "markdown",
   "id": "9",
   "metadata": {},
   "source": [
    "### Simulation"
   ]
  },
  {
   "cell_type": "code",
   "execution_count": null,
   "id": "10",
   "metadata": {},
   "outputs": [],
   "source": [
    "dt = 7200\n",
    "n_steps_per_cyle = 250\n",
    "comparison_interval = 1\n",
    "n_cycles = 3"
   ]
  },
  {
   "cell_type": "markdown",
   "id": "11",
   "metadata": {},
   "source": [
    "### RMSE"
   ]
  },
  {
   "cell_type": "code",
   "execution_count": null,
   "id": "12",
   "metadata": {},
   "outputs": [],
   "source": [
    "def rmse(f: torch.Tensor, f_ref: torch.Tensor) -> torch.Tensor:\n",
    "    \"\"\"RMSE.\"\"\"\n",
    "    return (f - f_ref).square().mean().sqrt() / f_ref.square().mean().sqrt()"
   ]
  },
  {
   "cell_type": "markdown",
   "id": "13",
   "metadata": {},
   "source": [
    "## Initial condition"
   ]
  },
  {
   "cell_type": "code",
   "execution_count": null,
   "id": "14",
   "metadata": {},
   "outputs": [],
   "source": [
    "from qgsw.fields.variables.tuples import UVH\n",
    "from qgsw.masks import Masks\n",
    "from qgsw.models.qg.stretching_matrix import compute_A\n",
    "from qgsw.models.qg.uvh.projectors.core import QGProjector\n",
    "from qgsw.utils import covphys\n",
    "\n",
    "\n",
    "P = QGProjector(\n",
    "    A=compute_A(H=H, g_prime=g_prime),\n",
    "    H=H.unsqueeze(-1).unsqueeze(-1),\n",
    "    space=space,\n",
    "    f0=beta_plane.f0,\n",
    "    masks=Masks.empty(\n",
    "        nx=config.space.nx,\n",
    "        ny=config.space.ny,\n",
    "    ),\n",
    ")\n",
    "uvh0 = UVH.from_file(\"../output/g5k/param_optim/_data_startup.pt\")\n",
    "psi_start = P.compute_p(covphys.to_cov(uvh0, dx, dy))[0] / beta_plane.f0"
   ]
  },
  {
   "cell_type": "markdown",
   "id": "15",
   "metadata": {},
   "source": [
    "### Full-domain model"
   ]
  },
  {
   "cell_type": "code",
   "execution_count": null,
   "id": "16",
   "metadata": {},
   "outputs": [],
   "source": [
    "from qgsw.models.qg.psiq.core import QGPSIQ\n",
    "\n",
    "\n",
    "model_3l = QGPSIQ(\n",
    "    space_2d=space.remove_z_h(),\n",
    "    H=H,\n",
    "    beta_plane=config.physics.beta_plane,\n",
    "    g_prime=g_prime,\n",
    ")\n",
    "model_3l.set_wind_forcing(tx, ty)\n",
    "model_3l.masks = Masks.empty_tensor(\n",
    "    model_3l.space.nx,\n",
    "    model_3l.space.ny,\n",
    "    device=specs[\"device\"],\n",
    ")\n",
    "model_3l.bottom_drag_coef = bottom_drag_coef\n",
    "model_3l.slip_coef = slip_coef\n",
    "model_3l.dt = dt\n",
    "y0 = model_3l.y0"
   ]
  },
  {
   "cell_type": "markdown",
   "id": "17",
   "metadata": {},
   "source": [
    "## OBC models"
   ]
  },
  {
   "cell_type": "code",
   "execution_count": null,
   "id": "18",
   "metadata": {},
   "outputs": [],
   "source": [
    "from pathlib import Path\n",
    "from typing import Generic, TypeVar\n",
    "\n",
    "from qgsw.models.qg.psiq.core import QGPSIQCore\n",
    "from qgsw.spatial.core.discretization import SpaceDiscretization2D\n",
    "\n",
    "T = TypeVar(\"T\", bound=QGPSIQCore)\n",
    "\n",
    "class ModelWrapper(Generic[T]):\n",
    "    model:T\n",
    "    color:str\n",
    "    prefix:str|None\n",
    "    no_wind=False\n",
    "    results_paths = Path(\"../output/g5k/param_optim\")\n",
    "    losses: list[list[torch.Tensor]]\n",
    "\n",
    "    def __init__(self, space_2d:SpaceDiscretization2D) -> None:\n",
    "        self.losses = []   \n",
    "    def _set_params(self) -> None:\n",
    "        space = self.model.space\n",
    "        self.model.y0 = y0\n",
    "        self.model.masks = Masks.empty_tensor(\n",
    "            space.nx,\n",
    "            space.ny,\n",
    "            device=specs[\"device\"],\n",
    "        )\n",
    "        self.model.bottom_drag_coef = 0\n",
    "        self.model.wide = True\n",
    "        self.model.slip_coef = slip_coef\n",
    "        self.model.dt = dt\n",
    "    def compute_q(self,psi:torch.Tensor, beta_effect:torch.Tensor) -> torch.Tensor:...\n",
    "    def set_wind_forcing(self,tx:torch.Tensor, ty:torch.Tensor) -> None:\n",
    "        if self.no_wind:\n",
    "            return\n",
    "        self.model.set_wind_forcing(tx, ty)\n",
    "    def load(self, imin:int,imax:int,jmin:int,jmax:int)-> dict:\n",
    "        indices = f\"_{imin}_{imax}_{jmin}_{jmax}.pt\"\n",
    "        file = self.results_paths.joinpath(self.prefix+indices)\n",
    "        return torch.load(file)\n",
    "    def new_cycle(self) -> None:\n",
    "        self.losses.append([])\n",
    "    def add_loss(self, loss:float) -> None:\n",
    "        self.losses[-1].append(loss)\n",
    "    def setup(self, ijs: tuple[int,int,int,int], cycle:int, psis:list[torch.Tensor], times:list[torch.Tensor], beta_effect_w:torch.Tensor) -> None:...\n",
    "\n",
    "class ModelsManager:\n",
    "    def __init__(self, *mw:ModelWrapper) -> None:\n",
    "        self.model_wrappers = mw\n",
    "    def step(self) -> None:\n",
    "        for mw in self.model_wrappers:\n",
    "            mw.model.step()\n",
    "    def new_cycle(self) -> None:\n",
    "        for mw in self.model_wrappers:\n",
    "            mw.new_cycle()\n",
    "    def compute_loss(self, psi_ref:torch.Tensor) -> None:\n",
    "        for mw in self.model_wrappers:\n",
    "            mw.add_loss(rmse(mw.model.psi[0,0],psi_ref[0,0]).cpu().item())\n",
    "    def reset_time(self) -> None:\n",
    "        for mw in self.model_wrappers:\n",
    "            mw.model.reset_time()\n",
    "    def set_wind_forcing(self, tx:torch.Tensor, ty:torch.Tensor)-> None:\n",
    "        for mw in self.model_wrappers:\n",
    "            mw.set_wind_forcing(tx,ty)\n",
    "    def setup(self, ijs: tuple[int,int,int,int],cycle:int, psis:list[torch.Tensor], times:list[torch.Tensor], beta_effect_w:torch.Tensor)-> None:\n",
    "        for mw in self.model_wrappers:\n",
    "            mw.setup(ijs, cycle,psis,times,beta_effect_w)\n",
    "\n"
   ]
  },
  {
   "cell_type": "markdown",
   "id": "19",
   "metadata": {},
   "source": [
    "### Reduced gravity"
   ]
  },
  {
   "cell_type": "code",
   "execution_count": null,
   "id": "20",
   "metadata": {},
   "outputs": [],
   "source": [
    "from torch import Tensor\n",
    "from qgsw.solver.finite_diff import laplacian\n",
    "from qgsw.spatial.core.discretization import SpaceDiscretization2D\n",
    "from qgsw.spatial.core.grid_conversion import interpolate\n",
    "from qgsw.utils.interpolation import QuadraticInterpolation\n",
    "from qgsw.utils.reshaping import crop\n",
    "\n",
    "\n",
    "class ReducedGravity(ModelWrapper[QGPSIQ]):\n",
    "    prefix = None\n",
    "    color = \"blue\"\n",
    "    def __init__(self, space_2d:SpaceDiscretization2D) -> None:\n",
    "        super().__init__(space_2d)\n",
    "        self.model= QGPSIQ(\n",
    "            space_2d=space_2d,\n",
    "            H=H[:1]*H[1:2]/(H[:1]+H[1:2]),\n",
    "            beta_plane=beta_plane,\n",
    "            g_prime=g_prime[1:2],\n",
    "        )\n",
    "        self._set_params()\n",
    "    def compute_q(self,psi: Tensor, beta_effect:torch.Tensor) -> Tensor:\n",
    "        return interpolate(laplacian(psi,dx,dy) - beta_plane.f0**2 * (1/H1/g1+1/H1/g2)*psi[...,1:-1,1:-1]) + beta_effect\n",
    "    \n",
    "    def setup(self, ijs: tuple[int,int,int,int],cycle:int, psis: list[torch.Tensor],times:list[torch.Tensor],beta_effect_w:torch.Tensor) -> None:\n",
    "        psi0 = psis[0]\n",
    "        psi_bcs = [extract_psi_bc(psi[:,:1]) for psi in psis]\n",
    "        q_bcs = [\n",
    "            Boundaries.extract(\n",
    "                self.compute_q(psi[:, :1],beta_effect_w), 2, -3, 2, -3, 3\n",
    "            )\n",
    "            for psi in psis\n",
    "        ]\n",
    "        self.model.set_boundary_maps(QuadraticInterpolation(times, psi_bcs), QuadraticInterpolation(times, q_bcs))\n",
    "        self.model.set_psiq(crop(psi0[:,:1],p), crop(self.compute_q(psi0[:,:1],beta_effect_w),p-1))"
   ]
  },
  {
   "cell_type": "markdown",
   "id": "21",
   "metadata": {},
   "source": [
    "### Two-layers"
   ]
  },
  {
   "cell_type": "code",
   "execution_count": null,
   "id": "22",
   "metadata": {},
   "outputs": [],
   "source": [
    "from torch._tensor import Tensor\n",
    "\n",
    "from qgsw.utils.reshaping import crop\n",
    "\n",
    "\n",
    "class TwoLayers(ModelWrapper[QGPSIQ]):\n",
    "    prefix = None\n",
    "    color = \"black\"\n",
    "    def __init__(self, space_2d:SpaceDiscretization2D) -> None:\n",
    "        super().__init__(space_2d)\n",
    "        self.model= QGPSIQ(\n",
    "            space_2d=space_2d,\n",
    "            H=H[:2],\n",
    "            beta_plane=beta_plane,\n",
    "            g_prime=g_prime[:2],\n",
    "        )\n",
    "        self._set_params()\n",
    "    def compute_q(self,psi: Tensor, beta_effect:torch.Tensor) -> Tensor:\n",
    "        return interpolate(laplacian(psi,dx,dy) - beta_plane.f0**2 * torch.einsum(\"lm,...mxy->...lxy\",self.model.A,psi[...,1:-1,1:-1]))+beta_effect\n",
    "    def setup(self, ijs: tuple[int,int,int,int],cycle: int, psis: list[Tensor], times:list[torch.Tensor],beta_effect_w: Tensor) -> None:\n",
    "        psi0 = psis[0]\n",
    "        psi_bcs = [extract_psi_bc(psi[:,:2]) for psi in psis]\n",
    "        q_bcs = [\n",
    "            Boundaries.extract(\n",
    "                self.compute_q(psi[:, :2],beta_effect_w), 2, -3, 2, -3, 3\n",
    "            )\n",
    "            for psi in psis\n",
    "        ]\n",
    "        self.model.set_boundary_maps(QuadraticInterpolation(times, psi_bcs), QuadraticInterpolation(times, q_bcs))\n",
    "        self.model.set_psiq(crop(psi0[:,:2],p), crop(self.compute_q(psi0[:,:2],beta_effect_w),p-1))"
   ]
  },
  {
   "cell_type": "markdown",
   "id": "23",
   "metadata": {},
   "source": [
    "### Alpha"
   ]
  },
  {
   "cell_type": "code",
   "execution_count": null,
   "id": "24",
   "metadata": {},
   "outputs": [],
   "source": [
    "from torch._tensor import Tensor\n",
    "from qgsw.models.qg.psiq.filtered.core import QGPSIQCollinearSF\n",
    "from qgsw.utils.reshaping import crop\n",
    "\n",
    "\n",
    "class Alpha(ModelWrapper[QGPSIQCollinearSF]):\n",
    "    prefix = \"results_alpha\"\n",
    "    color = \"red\"\n",
    "    def __init__(self, space_2d:SpaceDiscretization2D) -> None:\n",
    "        super().__init__(space_2d)\n",
    "        self.model= QGPSIQCollinearSF(\n",
    "            space_2d=space_2d,\n",
    "            H=H[:2],\n",
    "            beta_plane=beta_plane,\n",
    "            g_prime=g_prime[:2],\n",
    "        )\n",
    "        self._set_params()\n",
    "    def compute_q(self,psi: Tensor, beta_effect:torch.Tensor, alpha:torch.Tensor) -> Tensor:\n",
    "        return interpolate(\n",
    "            laplacian(psi, dx, dy)\n",
    "            - beta_plane.f0**2 * (1 / H1 / g1 + 1 / H1 / g2) * psi[..., 1:-1, 1:-1]\n",
    "            + beta_plane.f0**2 * (1 / H1 / g2) * alpha * psi[..., 1:-1, 1:-1]\n",
    "        ) + beta_effect\n",
    "    def setup(self, ijs: tuple[int,int,int,int],cycle: int, psis: list[Tensor], times: list[Tensor], beta_effect_w: Tensor) -> None:\n",
    "        res = self.load(*ijs)\n",
    "        self.model.alpha = torch.ones_like(self.model.psi)*res[cycle][\"dalpha\"]\n",
    "        alpha_value= res[cycle][\"alpha\"]\n",
    "        psi0 = psis[0]\n",
    "        psi_bcs = [extract_psi_bc(psi[:,:1]) for psi in psis]\n",
    "        q_bcs = [\n",
    "            Boundaries.extract(\n",
    "                self.compute_q(psi[:, :1],beta_effect_w,alpha_value), 2, -3, 2, -3, 3\n",
    "            )\n",
    "            for psi in psis\n",
    "        ]\n",
    "        self.model.set_boundary_maps(QuadraticInterpolation(times, psi_bcs), QuadraticInterpolation(times, q_bcs))\n",
    "        self.model.set_psiq(crop(psi0[:,:1],p), crop(self.compute_q(psi0[:,:1],beta_effect_w,alpha_value),p-1))\n"
   ]
  },
  {
   "cell_type": "markdown",
   "id": "25",
   "metadata": {},
   "source": [
    "### Affine"
   ]
  },
  {
   "cell_type": "code",
   "execution_count": null,
   "id": "26",
   "metadata": {},
   "outputs": [],
   "source": [
    "from torch._tensor import Tensor\n",
    "from qgsw.models.qg.psiq.filtered.core import QGPSIQFixeddSF2\n",
    "from qgsw.utils.reshaping import crop\n",
    "\n",
    "\n",
    "class Affine(ModelWrapper[QGPSIQFixeddSF2]):\n",
    "    prefix = \"results_psi2\"\n",
    "    color=\"orange\"\n",
    "    def __init__(self, space_2d:SpaceDiscretization2D) -> None:\n",
    "        super().__init__(space_2d)\n",
    "        self.model= QGPSIQFixeddSF2(\n",
    "            space_2d=space_2d,\n",
    "            H=H[:2],\n",
    "            beta_plane=beta_plane,\n",
    "            g_prime=g_prime[:2],\n",
    "        )\n",
    "        self._set_params()\n",
    "    def compute_q(self,psi: Tensor, beta_effect:torch.Tensor, psi2:torch.Tensor) -> Tensor:\n",
    "        return interpolate(\n",
    "            laplacian(psi, dx, dy)\n",
    "            - beta_plane.f0**2 * (1 / H1 / g1 + 1 / H1 / g2) * psi[..., 1:-1, 1:-1]\n",
    "            + beta_plane.f0**2 * (1 / H1 / g2) * psi2[..., 1:-1, 1:-1]\n",
    "        ) + beta_effect\n",
    "    \n",
    "    def setup(self, ijs: tuple[int, int, int, int], cycle: int, psis: list[Tensor], times: list[Tensor], beta_effect_w: Tensor) -> None:\n",
    "        res = self.load(*ijs)\n",
    "        psi2 = res[cycle][\"psi2\"].to(**specs)\n",
    "        dpsi2 = res[cycle][\"dpsi2\"].to(**specs)\n",
    "        self.model.dpsi2 = crop(dpsi2,p)\n",
    "        psi0 = psis[0]\n",
    "        psi_bcs = [extract_psi_bc(psi[:,:1]) for psi in psis]\n",
    "        q_bcs = [\n",
    "            Boundaries.extract(\n",
    "                self.compute_q(psi[:, :1],beta_effect_w,psi2+n*dt*dpsi2), 2, -3, 2, -3, 3\n",
    "            )\n",
    "            for n,psi in enumerate(psis)\n",
    "        ]\n",
    "        self.model.set_boundary_maps(QuadraticInterpolation(times, psi_bcs), QuadraticInterpolation(times, q_bcs))\n",
    "        self.model.set_psiq(crop(psi0[:,:1],p), crop(self.compute_q(psi0[:,:1],beta_effect_w,psi2),p-1))"
   ]
  },
  {
   "cell_type": "markdown",
   "id": "27",
   "metadata": {},
   "source": [
    "### Mixed"
   ]
  },
  {
   "cell_type": "code",
   "execution_count": null,
   "id": "28",
   "metadata": {},
   "outputs": [],
   "source": [
    "from torch._tensor import Tensor\n",
    "from qgsw.models.qg.psiq.filtered.core import QGPSIQMixed\n",
    "\n",
    "\n",
    "class Mixed(ModelWrapper[QGPSIQMixed]):\n",
    "    prefix = \"results_mixed\"\n",
    "    color=\"purple\"\n",
    "    def __init__(self, space_2d:SpaceDiscretization2D) -> None:\n",
    "        super().__init__(space_2d)\n",
    "        self.model= QGPSIQMixed(\n",
    "            space_2d=space_2d,\n",
    "            H=H[:2],\n",
    "            beta_plane=beta_plane,\n",
    "            g_prime=g_prime[:2],\n",
    "        )\n",
    "        self._set_params()\n",
    "    def compute_q(self,psi: Tensor, beta_effect:torch.Tensor, alpha:torch.Tensor, psi2:torch.Tensor) -> Tensor:\n",
    "        return interpolate(\n",
    "            laplacian(psi, dx, dy)\n",
    "            - beta_plane.f0**2 * (1 / H1 / g1 + 1 / H1 / g2) * psi[..., 1:-1, 1:-1]\n",
    "            + beta_plane.f0**2 * (1 / H1 / g2) * (psi2[...,1:-1,1:-1]+alpha * psi[..., 1:-1, 1:-1])\n",
    "        ) + beta_effect\n",
    "    def setup(self, ijs: tuple[int, int, int, int], cycle: int, psis: list[Tensor], times: list[Tensor], beta_effect_w: Tensor) -> None:\n",
    "        res = self.load(*ijs)\n",
    "        alpha:torch.Tensor = res[cycle][\"alpha\"]\n",
    "        dalpha:torch.Tensor = res[cycle][\"dalpha\"]\n",
    "        psi2:torch.Tensor = res[cycle][\"psi2\"].to(**specs)\n",
    "        dpsi2:torch.Tensor = res[cycle][\"dpsi2\"].to(**specs)\n",
    "        psi0 = psis[0]\n",
    "        psi_bcs = [extract_psi_bc(psi[:,:1]) for psi in psis]\n",
    "        q_bcs = [\n",
    "                Boundaries.extract(\n",
    "                    self.compute_q(psi[:, :1],beta_effect_w,alpha,psi2+n*dt*dpsi2), 2, -3, 2, -3, 3\n",
    "                )\n",
    "                for n,psi in enumerate(psis)\n",
    "            ]\n",
    "\n",
    "        self.model.set_psiq(crop(psi0[:,:1],p), crop(self.compute_q(psi0[:,:1],beta_effect_w,alpha,psi2),p-1))\n",
    "        self.model.alpha = torch.ones_like(self.model.psi)*dalpha\n",
    "        self.model.set_boundary_maps(QuadraticInterpolation(times, psi_bcs), QuadraticInterpolation(times, q_bcs))\n",
    "        self.model.dpsi2 = crop(dpsi2,p)"
   ]
  },
  {
   "cell_type": "markdown",
   "id": "29",
   "metadata": {},
   "source": [
    "### Forced"
   ]
  },
  {
   "cell_type": "code",
   "execution_count": null,
   "id": "30",
   "metadata": {},
   "outputs": [],
   "source": [
    "class Forced(ModelWrapper[QGPSIQ]):\n",
    "    prefix = \"results_forced\"\n",
    "    color=\"brown\"\n",
    "    def __init__(self, space_2d:SpaceDiscretization2D) -> None:\n",
    "        super().__init__(space_2d)\n",
    "        self.model= QGPSIQ(\n",
    "            space_2d=space_2d,\n",
    "            H=H[:1]*H[1:2]/(H[:1]+H[1:2]),\n",
    "            beta_plane=beta_plane,\n",
    "            g_prime=g_prime[1:2],\n",
    "        )\n",
    "        self._set_params()\n",
    "    def compute_q(self,psi: Tensor, beta_effect:torch.Tensor) -> Tensor:\n",
    "        return interpolate(laplacian(psi,dx,dy) - beta_plane.f0**2 * (1/H1/g1+1/H1/g2)*psi[...,1:-1,1:-1]) + beta_effect"
   ]
  },
  {
   "cell_type": "markdown",
   "id": "31",
   "metadata": {},
   "source": [
    "## [32, 96] x [64, 192]"
   ]
  },
  {
   "cell_type": "code",
   "execution_count": null,
   "id": "32",
   "metadata": {},
   "outputs": [],
   "source": [
    "imin, imax = 32, 96\n",
    "jmin, jmax = 64, 192\n",
    "ijs = (imin,imax,jmin,jmax)\n",
    "extract_psi_w = lambda psi: extract_psi_w_(psi,imin,imax,jmin,jmax)"
   ]
  },
  {
   "cell_type": "code",
   "execution_count": null,
   "id": "33",
   "metadata": {},
   "outputs": [],
   "source": [
    "from qgsw.utils.interpolation import QuadraticInterpolation\n",
    "from qgsw.utils.reshaping import crop\n",
    "\n",
    "\n",
    "model_3l.reset_time()\n",
    "model_3l.set_psi(psi_start)\n",
    "\n",
    "space_slice = SpaceDiscretization2D.from_tensors(\n",
    "    x=P.space.remove_z_h().omega.xy.x[imin : imax + 1, 0],\n",
    "    y=P.space.remove_z_h().omega.xy.y[0, jmin : jmax + 1],\n",
    ")\n",
    "\n",
    "space_slice_w = SpaceDiscretization2D.from_tensors(\n",
    "    x=P.space.remove_z_h().omega.xy.x[imin - p + 1 : imax + p, 0],\n",
    "    y=P.space.remove_z_h().omega.xy.y[0, jmin - p + 1 : jmax + p],\n",
    ")\n",
    "y_w = space_slice_w.q.xy.y[0, :].unsqueeze(0)\n",
    "beta_effect_w = beta_plane.beta * (y_w - y0)\n",
    "\n",
    "rg = ReducedGravity(space_slice)\n",
    "tl = TwoLayers(space_slice)\n",
    "alpha = Alpha(space_slice)\n",
    "affine = Affine(space_slice)\n",
    "mixed = Mixed(space_slice)\n",
    "forced = Forced(space_slice)\n",
    "\n",
    "models = ModelsManager(\n",
    "    rg,\n",
    "    tl,\n",
    "    alpha,\n",
    "    affine,\n",
    "    mixed,\n",
    "    # forced,\n",
    ")\n",
    "\n",
    "models.set_wind_forcing(tx[imin:imax, jmin : jmax + 1],ty[imin : imax + 1, jmin:jmax])\n",
    "\n",
    "for c in range(n_cycles):\n",
    "    models.new_cycle()\n",
    "    times = [model_3l.time.item()]\n",
    "\n",
    "    psi0 = extract_psi_w(model_3l.psi[:,:2])\n",
    "\n",
    "    psis = [psi0]\n",
    "\n",
    "    for _ in range(1, n_steps_per_cyle):\n",
    "        model_3l.step()\n",
    "\n",
    "        times.append(model_3l.time.item())\n",
    "\n",
    "        psi = extract_psi_w(model_3l.psi[:,:2])\n",
    "\n",
    "        psis.append(psi)\n",
    "\n",
    "    models.reset_time()\n",
    "\n",
    "    models.setup(ijs,c,psis,times,beta_effect_w)\n",
    "\n",
    "    models.compute_loss(crop(psis[0],p))\n",
    "    for n in range(1,n_steps_per_cyle):\n",
    "        models.step()\n",
    "        models.compute_loss(crop(psis[n],p))\n"
   ]
  },
  {
   "cell_type": "code",
   "execution_count": null,
   "id": "34",
   "metadata": {},
   "outputs": [],
   "source": [
    "from matplotlib import pyplot as plt\n",
    "\n",
    "plt.hlines(1,0,n_cycles*n_steps_per_cyle,linestyle=\"dashed\",color=\"brown\",alpha=0.75)\n",
    "plt.plot(rg.losses[0]+rg.losses[1]+rg.losses[2],color=rg.color)\n",
    "plt.plot(tl.losses[0]+tl.losses[1]+tl.losses[2],color=tl.color)\n",
    "plt.plot(alpha.losses[0]+alpha.losses[1]+alpha.losses[2],color=alpha.color)\n",
    "plt.plot(affine.losses[0]+affine.losses[1]+affine.losses[2],color=affine.color)\n",
    "plt.plot(mixed.losses[0]+mixed.losses[1]+mixed.losses[2],color=mixed.color)"
   ]
  },
  {
   "cell_type": "code",
   "execution_count": null,
   "id": "35",
   "metadata": {},
   "outputs": [],
   "source": []
  }
 ],
 "metadata": {
  "kernelspec": {
   "display_name": "Python 3",
   "language": "python",
   "name": "python3"
  },
  "language_info": {
   "codemirror_mode": {
    "name": "ipython",
    "version": 3
   },
   "file_extension": ".py",
   "mimetype": "text/x-python",
   "name": "python",
   "nbconvert_exporter": "python",
   "pygments_lexer": "ipython3",
   "version": "3.12.10"
  }
 },
 "nbformat": 4,
 "nbformat_minor": 5
}
