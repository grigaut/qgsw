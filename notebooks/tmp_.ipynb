{
 "cells": [
  {
   "cell_type": "code",
   "execution_count": null,
   "metadata": {},
   "outputs": [],
   "source": [
    "import numpy as np\n",
    "import matplotlib.pyplot as plt"
   ]
  },
  {
   "cell_type": "code",
   "execution_count": null,
   "metadata": {},
   "outputs": [],
   "source": [
    "u_1l = np.load(\"../tmp_1l.npz\")[\"u\"][0,0,...]\n",
    "v_1l = np.load(\"../tmp_1l.npz\")[\"v\"][0,0,...]\n",
    "h_1l = np.load(\"../tmp_1l.npz\")[\"h\"][0,0,...]\n",
    "\n",
    "u_2l = np.load(\"../tmp_2l.npz\")[\"u\"][0,0,...]\n",
    "v_2l = np.load(\"../tmp_2l.npz\")[\"v\"][0,0,...]\n",
    "h_2l = np.load(\"../tmp_2l.npz\")[\"h\"][0,0,...]\n",
    "\n",
    "u_ref_2l = np.load(\"../tmp_ref_2l.npz\")[\"u\"][0,0,...]\n",
    "v_ref_2l = np.load(\"../tmp_ref_2l.npz\")[\"v\"][0,0,...]\n",
    "h_ref_2l = np.load(\"../tmp_ref_2l.npz\")[\"h\"][0,0,...]\n",
    "\n",
    "u_ref_1l = np.load(\"../tmp_ref_1l.npz\")[\"u\"][0,0,...]\n",
    "v_ref_1l = np.load(\"../tmp_ref_1l.npz\")[\"v\"][0,0,...]\n",
    "h_ref_1l = np.load(\"../tmp_ref_1l.npz\")[\"h\"][0,0,...]"
   ]
  },
  {
   "cell_type": "code",
   "execution_count": null,
   "metadata": {},
   "outputs": [],
   "source": [
    "plt.imshow(u_ref_2l-u_ref_1l)\n",
    "plt.colorbar()\n",
    "plt.show()\n",
    "plt.imshow(v_ref_2l-v_ref_1l)\n",
    "plt.colorbar()\n",
    "plt.show()\n",
    "plt.imshow(h_ref_2l-h_ref_1l)\n",
    "plt.colorbar()\n",
    "plt.show()"
   ]
  },
  {
   "cell_type": "code",
   "execution_count": null,
   "metadata": {},
   "outputs": [],
   "source": [
    "plt.imshow(u_2l-u_1l)\n",
    "plt.colorbar()\n",
    "plt.show()\n",
    "plt.imshow(v_2l-v_1l)\n",
    "plt.colorbar()\n",
    "plt.show()\n",
    "plt.imshow(h_2l-h_1l)\n",
    "plt.colorbar()\n",
    "plt.show()"
   ]
  },
  {
   "cell_type": "code",
   "execution_count": null,
   "metadata": {},
   "outputs": [],
   "source": [
    "plt.imshow(u_2l-u_ref_2l)\n",
    "plt.colorbar()\n",
    "plt.show()\n",
    "plt.imshow(v_2l-v_ref_2l)\n",
    "plt.colorbar()\n",
    "plt.show()\n",
    "plt.imshow(h_2l-h_ref_2l)\n",
    "plt.colorbar()\n",
    "plt.show()"
   ]
  },
  {
   "cell_type": "code",
   "execution_count": null,
   "metadata": {},
   "outputs": [],
   "source": [
    "plt.imshow(u_1l-u_ref_1l)\n",
    "plt.colorbar()\n",
    "plt.show()\n",
    "plt.imshow(v_1l-v_ref_1l)\n",
    "plt.colorbar()\n",
    "plt.show()\n",
    "plt.imshow(h_1l-h_ref_1l)\n",
    "plt.colorbar()\n",
    "plt.show()"
   ]
  },
  {
   "cell_type": "code",
   "execution_count": null,
   "metadata": {},
   "outputs": [],
   "source": [
    "h_1l"
   ]
  },
  {
   "cell_type": "code",
   "execution_count": null,
   "metadata": {},
   "outputs": [],
   "source": []
  }
 ],
 "metadata": {
  "kernelspec": {
   "display_name": "Python 3",
   "language": "python",
   "name": "python3"
  },
  "language_info": {
   "codemirror_mode": {
    "name": "ipython",
    "version": 3
   },
   "file_extension": ".py",
   "mimetype": "text/x-python",
   "name": "python",
   "nbconvert_exporter": "python",
   "pygments_lexer": "ipython3",
   "version": "3.9.2"
  }
 },
 "nbformat": 4,
 "nbformat_minor": 2
}
